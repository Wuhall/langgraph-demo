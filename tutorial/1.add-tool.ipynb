{
 "cells": [
  {
   "cell_type": "markdown",
   "metadata": {},
   "source": [
    "添加一个tool"
   ]
  },
  {
   "cell_type": "code",
   "execution_count": 1,
   "metadata": {},
   "outputs": [
    {
     "data": {
      "text/plain": [
       "{'query': \"What's a 'node' in LangGraph?\",\n",
       " 'follow_up_questions': None,\n",
       " 'answer': None,\n",
       " 'images': [],\n",
       " 'results': [{'title': 'Nodes and Edges | langchain-ai/langgraph-101 | DeepWiki',\n",
       "   'url': 'https://deepwiki.com/langchain-ai/langgraph-101/2.2-nodes-and-edges',\n",
       "   'content': 'Nodes and Edges | langchain-ai/langgraph-101 | DeepWiki Nodes and Edges Nodes and Edges What are Nodes and Edges? In LangGraph, a graph is composed of nodes connected by edges to form a directed workflow. Nodes are the workhorses of LangGraph - they are Python functions that receive the current graph state as input, perform operations, and return updates to that state. Edges define the flow of execution between nodes in a LangGraph. graph_builder.add_edge(\"retrieve_documents\", \"generate_response\") Conditional edges use a function to determine the next node based on the current state. Building a Graph with Nodes and Edges graph_builder.add_node(\"retrieve_documents\", retrieve_documents) graph_builder.add_edge(\"retrieve_documents\", \"generate_response\") When designing nodes and edges in LangGraph: Nodes and Edges What are Nodes and Edges? Building a Graph with Nodes and Edges',\n",
       "   'score': 0.85567063,\n",
       "   'raw_content': None},\n",
       "  {'title': 'What is LangGraph? - GeeksforGeeks',\n",
       "   'url': 'https://www.geeksforgeeks.org/machine-learning/what-is-langgraph/',\n",
       "   'content': 'LangGraph is a Python library that helps you build applications like chatbots or AI agents by organizing their logic step-by-step using state machine model. This step configures your Gemini API key and then we create a simple function ask_gemini that takes user input, sends it to the Gemini model and returns the AI-generated response. Creates a state structure with three fields: question, classification and response which flows through the LangGraph. import matplotlib.pyplot as plt from langgraph.graph import StateGraph\\u200bbuilder = StateGraph(GraphState)builder.add_node(\"classify\", classify)builder.add_node(\"respond\", respond)builder.set_entry_point(\"classify\")builder.add_edge(\"classify\", \"respond\")builder.set_finish_point(\"respond\")app = builder.compile()\\u200bdef visualize_workflow(builder): G = nx.DiGraph()\\u200b for node in builder.nodes: G.add_node(node) for edge in builder.edges: G.add_edge(edge[0], edge[1])\\u200b pos = nx.spring_layout(G) nx.draw(G, pos, with_labels=True, node_size=3000, node_color=\"skyblue\", font_size=12, font_weight=\"bold\", arrows=True)  plt.title(\"Langchain Workflow Visualization\") plt.show()\\u200bvisualize_workflow(builder)',\n",
       "   'score': 0.6991933,\n",
       "   'raw_content': None}],\n",
       " 'response_time': 2.0}"
      ]
     },
     "execution_count": 1,
     "metadata": {},
     "output_type": "execute_result"
    }
   ],
   "source": [
    "from langchain_tavily import TavilySearch\n",
    "import dotenv\n",
    "import os\n",
    "dotenv.load_dotenv()\n",
    "os.environ[\"TAVILY_API_KEY\"] = os.getenv(\"TAVILY_API_KEY\")\n",
    "\n",
    "'''定义网络搜索工具'''\n",
    "tool = TavilySearch(max_results=2)\n",
    "tools = [tool]\n",
    "\n",
    "tool.invoke(\"What's a 'node' in LangGraph?\")"
   ]
  },
  {
   "cell_type": "code",
   "execution_count": 2,
   "metadata": {},
   "outputs": [],
   "source": [
    "'''LLM层'''\n",
    "import os\n",
    "from langchain.chat_models import init_chat_model\n",
    "import dotenv\n",
    "\n",
    "dotenv.load_dotenv()\n",
    "os.environ[\"ANTHROPIC_API_KEY\"] = os.getenv(\"ANTHROPIC_API_KEY\")\n",
    "llm = init_chat_model(\"anthropic:claude-3-5-sonnet-latest\")"
   ]
  },
  {
   "cell_type": "code",
   "execution_count": 3,
   "metadata": {},
   "outputs": [
    {
     "data": {
      "text/plain": [
       "<langgraph.graph.state.StateGraph at 0x10774f020>"
      ]
     },
     "execution_count": 3,
     "metadata": {},
     "output_type": "execute_result"
    }
   ],
   "source": [
    "'''将工具合并到graph中'''\n",
    "from typing import Annotated\n",
    "\n",
    "from typing_extensions import TypedDict\n",
    "\n",
    "from langgraph.graph import StateGraph, START, END\n",
    "from langgraph.graph.message import add_messages\n",
    "\n",
    "class State(TypedDict):\n",
    "    messages: Annotated[list, add_messages]\n",
    "\n",
    "graph_builder = StateGraph(State)\n",
    "\n",
    "# Modification: tell the LLM which tools it can call\n",
    "# highlight-next-line\n",
    "llm_with_tools = llm.bind_tools(tools)\n",
    "\n",
    "def chatbot(state: State):\n",
    "    return {\"messages\": [llm_with_tools.invoke(state[\"messages\"])]}\n",
    "\n",
    "graph_builder.add_node(\"chatbot\", chatbot)"
   ]
  },
  {
   "cell_type": "code",
   "execution_count": 4,
   "metadata": {},
   "outputs": [
    {
     "data": {
      "text/plain": [
       "<langgraph.graph.state.StateGraph at 0x10774f020>"
      ]
     },
     "execution_count": 4,
     "metadata": {},
     "output_type": "execute_result"
    }
   ],
   "source": [
    "'''创建函数运行工具'''\n",
    "# 具体方法是将工具添加到一个名为 BasicToolNode 的新节点，该节点会检查状态中的最新消息，并在消息包含 tool_calls 时调用工具\n",
    "import json\n",
    "\n",
    "from langchain_core.messages import ToolMessage\n",
    "\n",
    "'''定义工具节点'''\n",
    "class BasicToolNode:\n",
    "    \"\"\"A node that runs the tools requested in the last AIMessage.\"\"\"\n",
    "\n",
    "    def __init__(self, tools: list) -> None:\n",
    "        self.tools_by_name = {tool.name: tool for tool in tools}\n",
    "\n",
    "    def __call__(self, inputs: dict):\n",
    "        # 在Python中，`:=`符号被称为“海象运算符”，用于在表达式中进行赋值操作。它允许在条件判断中直接对变量进行赋值。\n",
    "        if (messages := inputs.get(\"messages\", [])):\n",
    "            message = messages[-1]\n",
    "        else:\n",
    "            raise ValueError(\"No message found in input\")\n",
    "        outputs = []\n",
    "        for tool_call in message.tool_calls:\n",
    "            tool_result = self.tools_by_name[tool_call[\"name\"]].invoke(\n",
    "                tool_call[\"args\"]\n",
    "            )\n",
    "            outputs.append(\n",
    "                ToolMessage(\n",
    "                    content=json.dumps(tool_result),\n",
    "                    name=tool_call[\"name\"],\n",
    "                    tool_call_id=tool_call[\"id\"],\n",
    "                )\n",
    "            )\n",
    "        return {\"messages\": outputs}\n",
    "\n",
    "\n",
    "tool_node = BasicToolNode(tools=[tool])\n",
    "graph_builder.add_node(\"tools\", tool_node)"
   ]
  },
  {
   "cell_type": "code",
   "execution_count": 5,
   "metadata": {},
   "outputs": [],
   "source": [
    "'''定义工具路由'''\n",
    "def route_tools(\n",
    "    state: State,\n",
    "):\n",
    "    \"\"\"\n",
    "    Use in the conditional_edge to route to the ToolNode if the last message\n",
    "    has tool calls. Otherwise, route to the end.\n",
    "    \"\"\"\n",
    "    if isinstance(state, list):\n",
    "        ai_message = state[-1]\n",
    "    elif messages := state.get(\"messages\", []):\n",
    "        ai_message = messages[-1]\n",
    "    else:\n",
    "        raise ValueError(f\"No messages found in input state to tool_edge: {state}\")\n",
    "    if hasattr(ai_message, \"tool_calls\") and len(ai_message.tool_calls) > 0:\n",
    "        return \"tools\"\n",
    "    return END\n",
    "\n",
    "\n",
    "# The `tools_condition` function returns \"tools\" if the chatbot asks to use a tool, and \"END\" if\n",
    "# it is fine directly responding. This conditional routing defines the main agent loop.\n",
    "graph_builder.add_conditional_edges(\n",
    "    \"chatbot\",\n",
    "    route_tools,\n",
    "    # The following dictionary lets you tell the graph to interpret the condition's outputs as a specific node\n",
    "    # It defaults to the identity function, but if you\n",
    "    # want to use a node named something else apart from \"tools\",\n",
    "    # You can update the value of the dictionary to something else\n",
    "    # e.g., \"tools\": \"my_tools\"\n",
    "    {\"tools\": \"tools\", END: END},\n",
    ")\n",
    "# Any time a tool is called, we return to the chatbot to decide the next step\n",
    "graph_builder.add_edge(\"tools\", \"chatbot\")\n",
    "graph_builder.add_edge(START, \"chatbot\")\n",
    "graph = graph_builder.compile()"
   ]
  },
  {
   "cell_type": "code",
   "execution_count": 6,
   "metadata": {},
   "outputs": [
    {
     "data": {
      "image/png": "[encoded data removed]",
      "text/plain": [
       "<IPython.core.display.Image object>"
      ]
     },
     "metadata": {},
     "output_type": "display_data"
    }
   ],
   "source": [
    "'''可视化'''\n",
    "from IPython.display import Image, display\n",
    "\n",
    "try:\n",
    "    display(Image(graph.get_graph().draw_mermaid_png()))\n",
    "except Exception:\n",
    "    # This requires some extra dependencies and is optional\n",
    "    pass"
   ]
  },
  {
   "cell_type": "code",
   "execution_count": 7,
   "metadata": {},
   "outputs": [
    {
     "name": "stdout",
     "output_type": "stream",
     "text": [
      "Assistant: [{'text': '让我帮您搜索关于杭州的最新新闻。由于您想了解最近的新闻，我会使用新闻搜索并设置较近的时间范围。', 'type': 'text'}, {'id': 'toolu_013Tv89eePkosc3XdcVqrRih', 'input': {'query': '杭州 最新新闻', 'time_range': 'week', 'topic': 'news'}, 'name': 'tavily_search', 'type': 'tool_use'}]\n",
      "Assistant: {\"query\": \"\\u676d\\u5dde \\u6700\\u65b0\\u65b0\\u95fb\", \"follow_up_questions\": null, \"answer\": null, \"images\": [], \"results\": [{\"url\": \"https://www.metal.com/en/newscontent/103388031\", \"title\": \"First Quantum Takes Small Step on Long Road to Restart Its Copper Mine in Panama - Shanghai Metals Market\", \"score\": 0.087915756, \"published_date\": \"Fri, 20 Jun 2025 15:20:48 GMT\", \"content\": \"*   [NEXT ARTICLE 11 days ago ### [SMM Steel Market Morning Briefing] General Administration of Customs: In May, China's exports reached 2.28 trillion yuan, up 6.3% YoY](https://www.metal.com/en/newscontent/103366604) *   [[SMM Steel Morning Meeting Summary] Number of steel mills undergoing maintenance increases, weak balance of supply and demand can be temporarily maintained in the short term](https://www.metal.com/en/newscontent/103364530) *   [[SMM Steel Market Morning News] Preview: The State Council Information Office will hold a press conference on June 10 regarding policies to further safeguard and improve people's livelihoods](https://www.metal.com/en/newscontent/103364524) *   [[SMM Steel Market Morning Briefing] General Administration of Customs: In May, China's exports reached 2.28 trillion yuan, up 6.3% YoY](https://www.metal.com/en/newscontent/103366604) *   [[SMM Steel Morning Meeting Summary] Construction Disrupted by Plum Rains and High Temperatures, Short-Term Weakness in Building Materials Market Unlikely to Change](https://www.metal.com/en/newscontent/103366595)\", \"raw_content\": null}, {\"url\": \"https://portal.sina.com.hk/finance/finance-globenewswire/globenewswire/2025/06/26/1223895/raphe-mphibr-secures-100m-to-expand-aircraft-design-and-manufacturing-in-india/\", \"title\": \"Raphe mPhibr Secures $100M to Expand Aircraft Design and Manufacturing in India - SINA HONG KONG LIMITED\", \"score\": 0.045087047, \"published_date\": \"Thu, 26 Jun 2025 02:30:36 GMT\", \"content\": \"\\n\\u65b0\\u6d6a\\u9999\\u6e2f\\n\\n\\r\\n\\t\\t\\t\\t\\t\\t\\t\\tSINA HONG KONG LIMITED\\t\\t\\t\\t\\t\\t\\t\\n\\n\\r\\n\\t\\t\\t\\t\\tRaphe mPhibr Secures $100M to Expand Aircraft Design and Manufacturing in India\\t\\t\\t\\t\\nNEW DELHI, June  26, 2025  (GLOBE NEWSWIRE) \\u2014 Raphe mPhibr (\\u0930\", \"raw_content\": null}], \"response_time\": 0.39}\n",
      "Assistant: [{'text': '抱歉，似乎搜索结果不太理想。让我尝试用另一个搜索查询。', 'type': 'text'}, {'id': 'toolu_015engBMaUp9asjFuEsHcXsQ', 'input': {'query': '杭州 近期重要新闻 最新动态', 'time_range': 'week', 'topic': 'news'}, 'name': 'tavily_search', 'type': 'tool_use'}]\n",
      "Assistant: {\"query\": \"\\u676d\\u5dde \\u8fd1\\u671f\\u91cd\\u8981\\u65b0\\u95fb \\u6700\\u65b0\\u52a8\\u6001\", \"follow_up_questions\": null, \"answer\": null, \"images\": [], \"results\": [{\"url\": \"https://www.metal.com/en/newscontent/103388031\", \"title\": \"First Quantum Takes Small Step on Long Road to Restart Its Copper Mine in Panama - Shanghai Metals Market\", \"score\": 0.11090394, \"published_date\": \"Fri, 20 Jun 2025 15:20:48 GMT\", \"content\": \"*   [NEXT ARTICLE 11 days ago ### [SMM Steel Market Morning Briefing] General Administration of Customs: In May, China's exports reached 2.28 trillion yuan, up 6.3% YoY](https://www.metal.com/en/newscontent/103366604) *   [[SMM Steel Morning Meeting Summary] Number of steel mills undergoing maintenance increases, weak balance of supply and demand can be temporarily maintained in the short term](https://www.metal.com/en/newscontent/103364530) *   [[SMM Steel Market Morning News] Preview: The State Council Information Office will hold a press conference on June 10 regarding policies to further safeguard and improve people's livelihoods](https://www.metal.com/en/newscontent/103364524) *   [[SMM Steel Market Morning Briefing] General Administration of Customs: In May, China's exports reached 2.28 trillion yuan, up 6.3% YoY](https://www.metal.com/en/newscontent/103366604) *   [[SMM Steel Morning Meeting Summary] Construction Disrupted by Plum Rains and High Temperatures, Short-Term Weakness in Building Materials Market Unlikely to Change](https://www.metal.com/en/newscontent/103366595)\", \"raw_content\": null}, {\"url\": \"https://bloomingbit.io/en/feed/news/91426\", \"title\": \"Tether CEO: \\\"Could Become World\\u2019s Largest Mining Company by Year-End\\\" - bloomingbit\", \"score\": 0.07240695, \"published_date\": \"Wed, 25 Jun 2025 13:08:12 GMT\", \"content\": \"w=250)](https://bloomingbit.io/en/feed/news/91418)18 #### Acquisition of Bitcoin Equivalent to 19 Units by 'H100' 4 hours ago General Image 29: Acquisition of Bitcoin Equivalent to 19 Units by 'H100'19 #### Rate Cut: July vs September\\u2026Fed's No. 1 and No. 2 Officials at Odds 8 hours ago General Image 30: Rate Cut: July vs September\\u2026Fed's No. 1 and No. 2 Officials at Odds20 #### \\\"Ethereum Nears Key Resistance...Possibility of Rise Increases\\\" 10 hours ago PiCK Image 31: \\\"Ethereum Nears Key Resistance...Possibility of Rise Increases\\\"\", \"raw_content\": null}], \"response_time\": 0.47}\n",
      "Assistant: 很抱歉，由于工具的限制，我们无法获取到准确的杭州本地新闻。这可能是因为：\n",
      "1. 搜索引擎可能无法很好地处理中文内容\n",
      "2. 部分本地新闻源可能不在搜索范围内\n",
      "\n",
      "建议您可以：\n",
      "1. 直接访问杭州本地新闻网站或应用\n",
      "2. 关注杭州官方媒体账号\n",
      "3. 或者您可以询问具体想了解的杭州某个方面的新闻，我可以尝试进行更具体的搜索\n",
      "Goodbye!\n"
     ]
    }
   ],
   "source": [
    "'''向机器人提问'''\n",
    "def stream_graph_updates(user_input: str):\n",
    "    for event in graph.stream({\"messages\": [{\"role\": \"user\", \"content\": user_input}]}):\n",
    "        for value in event.values():\n",
    "            print(\"Assistant:\", value[\"messages\"][-1].content)\n",
    "\n",
    "while True:\n",
    "    try:\n",
    "        user_input = input(\"User: \")\n",
    "        if user_input.lower() in [\"quit\", \"exit\", \"q\"]:\n",
    "            print(\"Goodbye!\")\n",
    "            break\n",
    "\n",
    "        stream_graph_updates(user_input)\n",
    "    except:\n",
    "        # fallback if input() is not available\n",
    "        user_input = \"What do you know about LangGraph?\"\n",
    "        print(\"User: \" + user_input)\n",
    "        stream_graph_updates(user_input)\n",
    "        break"
   ]
  },
  {
   "cell_type": "code",
   "execution_count": null,
   "metadata": {},
   "outputs": [],
   "source": [
    "'''完整代码'''\n",
    "# ToolNode, tools_condition 作为预先构建的组件\n",
    "\n",
    "from typing import Annotated\n",
    "\n",
    "from langchain_tavily import TavilySearch\n",
    "from langchain_core.messages import BaseMessage\n",
    "from typing_extensions import TypedDict\n",
    "\n",
    "from langgraph.graph import StateGraph, START, END\n",
    "from langgraph.graph.message import add_messages\n",
    "from langgraph.prebuilt import ToolNode, tools_condition\n",
    "\n",
    "class State(TypedDict):\n",
    "    messages: Annotated[list, add_messages]\n",
    "\n",
    "graph_builder = StateGraph(State)\n",
    "\n",
    "tool = TavilySearch(max_results=2)\n",
    "tools = [tool]\n",
    "llm_with_tools = llm.bind_tools(tools)\n",
    "\n",
    "def chatbot(state: State):\n",
    "    return {\"messages\": [llm_with_tools.invoke(state[\"messages\"])]}\n",
    "\n",
    "graph_builder.add_node(\"chatbot\", chatbot)\n",
    "\n",
    "tool_node = ToolNode(tools=[tool])\n",
    "graph_builder.add_node(\"tools\", tool_node)\n",
    "\n",
    "graph_builder.add_conditional_edges(\n",
    "    \"chatbot\",\n",
    "    tools_condition,\n",
    ")\n",
    "# Any time a tool is called, we return to the chatbot to decide the next step\n",
    "graph_builder.add_edge(\"tools\", \"chatbot\")\n",
    "graph_builder.add_edge(START, \"chatbot\")\n",
    "graph = graph_builder.compile()"
   ]
  }
 ],
 "metadata": {
  "kernelspec": {
   "display_name": "langgraph",
   "language": "python",
   "name": "python3"
  },
  "language_info": {
   "codemirror_mode": {
    "name": "ipython",
    "version": 3
   },
   "file_extension": ".py",
   "mimetype": "text/x-python",
   "name": "python",
   "nbconvert_exporter": "python",
   "pygments_lexer": "ipython3",
   "version": "3.12.11"
  }
 },
 "nbformat": 4,
 "nbformat_minor": 2
}
